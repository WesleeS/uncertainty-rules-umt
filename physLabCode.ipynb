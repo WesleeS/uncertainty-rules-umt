{
 "cells": [
  {
   "cell_type": "code",
   "execution_count": 51,
   "metadata": {},
   "outputs": [],
   "source": [
    "\n",
    "''''''\n",
    "# First up, we import extra python packages we want to use.\n",
    "# Particularly I want numpy, but I'm lazy and don't want to go in cmd and install it\n",
    "# I'm assuming you don't want to open cmd and use pip (or don't know how/can't)\n",
    "# So what I'm doing is just grabbing the native math package for the square root function\n",
    "# Typing (stuff)**.5 sucks and sqrt(stuff) looks cleaner\n",
    "\n",
    "from math import sqrt\n",
    "# As this is a detour from the actual homework I won't delve too long in it, but\n",
    "# I use \"from x import y\" for 1 reason. Bloat with libraries is never an issue, but\n",
    "# I specify importing sqrt as I won't have to type math.sqrt(), just sqrt()\n",
    "# Back to the lesson at hand!\n",
    "''''''\n",
    "# I'm going to put __every__ definition here for ease of explaining just to say it all in one place.\n",
    "# I'll use the same values from page 7 of the \"Errors and the Treatment of Data\" PDF\n",
    "# The equation prompted from the example is g=(2y)/(t^2)\n",
    "# We have y = (1.010 ± 0.014) meters and t = 0.454 ± 0.008 seconds\n",
    "\n",
    "# Values A and B are two seperate measurements\n",
    "# I'm storing some as lists (a single reference with multiple stored values)\n",
    "# It makes sense to me, personally. \n",
    "# Whenever you see A[0] I'm accessing the first item of A, which is the measurement (e.g., 1.010 meters)\n",
    "# Whenever you see A[1] I'm accessing the second item of A, which is the uncertainty (e.g., ± 0.014 meters)\n",
    "\n",
    "A = [1.010,0.014] # Value A is the y in the equation\n",
    "B = [0.454,0.008] # Value B is the t in the equation\n",
    "C = 2             # Value C is the 2 in 2y, a given constant\n",
    "m = 1             # Value m is the invisible power of y\n",
    "n = -2            # Value n is the expontent of t, negative since it's in the denominator\n",
    "\n",
    "# Done! We don't have to remake these variables again as Jupyter stores variables globally instead of locally\n",
    "# Just be sure to run either all cells, or select both this cell and the rule cell, or you'll get an error!"
   ]
  },
  {
   "cell_type": "markdown",
   "metadata": {},
   "source": [
    "#### Rule 1\n",
    "$ \n",
    "\\frac{\\delta Q}{Q} = \\frac{\\delta A}{A} \\newline\n",
    "\\delta Q = c\\delta A \\newline\n",
    "$\n",
    "Requires: <br>\n",
    "$\n",
    "Q = cA \\newline\n",
    "$"
   ]
  },
  {
   "cell_type": "code",
   "execution_count": 52,
   "metadata": {},
   "outputs": [
    {
     "name": "stdout",
     "output_type": "stream",
     "text": [
      "Q = 2.02\n",
      "δQ = 0.028\n",
      "Q = 2.02\n",
      "δQ = 0.028\n"
     ]
    }
   ],
   "source": [
    "# Rule 1\n",
    "# There are two (main, there's a near infinite amount of actual methods) ways to do these rules\n",
    "# First is doing it via definition, second is doing it raw.\n",
    "# Definitions are good to use when the same process is done multiple times \n",
    "# But since each cell only uses a rule once, I'll write the rest raw. However, I'll do rule 1 both ways\n",
    "\n",
    "# Definition route\n",
    "def ruleOne (measure, constant, qCheck):\n",
    "    # \"qCheck\" is used for if I want to get the Q, or DeltaQ. 1 means Q, 2 means DeltaQ.\n",
    "    # It saves the calculation of c*A as \"QValue\", and then either returns Q or DeltaQ depending on the qCheck\n",
    "    # Since either the measurement or uncertainty is used, I use a vague variable called \"measure\"\n",
    "    qValue = str(constant*measure) \n",
    "    if qCheck == 0:\n",
    "        return \"Q = \" + qValue # Return means \"this value is returned\". Think of definitions as Schrödinger's Variable.\n",
    "                               # It could be one thing, or it could be another. Or another!\n",
    "    elif qCheck == 1:\n",
    "        return \"δQ = \" + qValue\n",
    "    else:\n",
    "        return(\"Unable to parse whether Q or Qdelta is desired. View comments.\") # as x equals this string, this is printed\n",
    "print(ruleOne(A[0],C,0)) # Prints Q\n",
    "print(ruleOne(A[1],C,1)) # Prints DeltaQ\n",
    "\n",
    "# Raw route\n",
    "print(\"Q = \" + str(A[0]*C))  # To be able to append/put the string and value together, \n",
    "print(\"δQ = \" + str(A[1]*C)) # we have to convert the float to a string type. \n",
    "                             # Adding numbers makes a number, adding strings makes a sentence. \n"
   ]
  },
  {
   "cell_type": "markdown",
   "metadata": {},
   "source": [
    "#### Rule 2\n",
    "$ \n",
    "\\frac{\\delta Q}{Q} = m\\frac{\\delta A}{A} \\newline\n",
    "\\delta Q = cmA^{m-1}\\delta A \\newline\n",
    "$\n",
    "Requires: <br>\n",
    "$Q = cA^m$\n"
   ]
  },
  {
   "cell_type": "code",
   "execution_count": 53,
   "metadata": {},
   "outputs": [
    {
     "name": "stdout",
     "output_type": "stream",
     "text": [
      "Q = 2.02\n",
      "δQ = 0.028\n"
     ]
    }
   ],
   "source": [
    "#Rule 2\n",
    "print(\"Q = \" + str(C*A[0]**m))\n",
    "print(\"δQ = \" + str(C*m*A[0]**(m-1)*A[1]))"
   ]
  },
  {
   "cell_type": "markdown",
   "metadata": {},
   "source": [
    "#### Rule 3\n",
    "$ \n",
    "\\delta Q = \\sqrt{(\\delta A)^2 + (\\delta B)^2} \\newline\n",
    "$\n",
    "Requires: <br>\n",
    "$\n",
    "Q = A ± B\n",
    "$"
   ]
  },
  {
   "cell_type": "code",
   "execution_count": 57,
   "metadata": {},
   "outputs": [
    {
     "name": "stdout",
     "output_type": "stream",
     "text": [
      "Q = 1.464\n",
      "δQ = 0.0161245154965971\n"
     ]
    }
   ],
   "source": [
    "#Rule 3\n",
    "# Remember way back where we imported the square root function?\n",
    "print(\"Q = \" + str(A[0]+B[0]))\n",
    "print(\"δQ = \" + str( sqrt( (A[1])**2 + (B[1])**2 ) )) # Added extra spacing for visiblity "
   ]
  },
  {
   "cell_type": "markdown",
   "metadata": {},
   "source": [
    "#### Rule 4\n",
    "$ \n",
    "\\frac{\\delta Q}{Q} = \\sqrt{(\\frac{m\\delta A}{A})^2 + (\\frac{n\\delta B}{B})^2} \\newline\n",
    "$\n",
    "Requires: <br>\n",
    "$\n",
    "Q = cA^mB^n\n",
    "$"
   ]
  },
  {
   "cell_type": "code",
   "execution_count": 56,
   "metadata": {},
   "outputs": [
    {
     "name": "stdout",
     "output_type": "stream",
     "text": [
      "Q = 9.800306623454754\n",
      "δQ = 0.037870266475345346\n"
     ]
    }
   ],
   "source": [
    "#Rule 4\n",
    "print(\"Q = \" + str((C*A[0]**(m))*(B[0]**(n))))\n",
    "print(\"δQ = \" + str( sqrt( ((m*A[1])/(A[0]))**2 + ((n*B[1])/(B[0]))**2 ) ))"
   ]
  }
 ],
 "metadata": {
  "kernelspec": {
   "display_name": "Python 3.10.7 64-bit",
   "language": "python",
   "name": "python3"
  },
  "language_info": {
   "codemirror_mode": {
    "name": "ipython",
    "version": 3
   },
   "file_extension": ".py",
   "mimetype": "text/x-python",
   "name": "python",
   "nbconvert_exporter": "python",
   "pygments_lexer": "ipython3",
   "version": "3.10.7"
  },
  "orig_nbformat": 4,
  "vscode": {
   "interpreter": {
    "hash": "6e94abea6050c28933324946b86cd8c71effc5d3227f533e984ff4f33f6e995c"
   }
  }
 },
 "nbformat": 4,
 "nbformat_minor": 2
}
